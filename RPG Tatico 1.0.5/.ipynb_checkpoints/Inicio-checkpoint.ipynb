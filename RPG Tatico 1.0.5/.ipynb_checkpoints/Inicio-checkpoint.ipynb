{
 "cells": [
  {
   "cell_type": "code",
   "execution_count": 1,
   "metadata": {},
   "outputs": [
    {
     "name": "stdout",
     "output_type": "stream",
     "text": [
      "pygame 1.9.6\n",
      "Hello from the pygame community. https://www.pygame.org/contribute.html\n"
     ]
    },
    {
     "ename": "SystemExit",
     "evalue": "",
     "output_type": "error",
     "traceback": [
      "An exception has occurred, use %tb to see the full traceback.\n",
      "\u001b[0;31mSystemExit\u001b[0m\n"
     ]
    },
    {
     "name": "stderr",
     "output_type": "stream",
     "text": [
      "/home/eduardo/anaconda3/lib/python3.7/site-packages/IPython/core/interactiveshell.py:3304: UserWarning: To exit: use 'exit', 'quit', or Ctrl-D.\n",
      "  warn(\"To exit: use 'exit', 'quit', or Ctrl-D.\", stacklevel=1)\n"
     ]
    }
   ],
   "source": [
    "def show_fps(win, inner_clock, font):\n",
    "    fps_text = font.render(\"FPS: \" + str(round(inner_clock.get_fps())), True, (255, 255, 0))\n",
    "    win.blit(fps_text, (2, 2))\n",
    "\n",
    "\n",
    "if __name__ == \"__main__\":\n",
    "    import pygame as pg\n",
    "    from src.constants import *\n",
    "    import src.fonts as fonts\n",
    "    from src.Destroyable import Destroyable\n",
    "    from src.Breakable import Breakable\n",
    "    from src.Movable import Movable\n",
    "    from src.Character import Character\n",
    "    from src.Sidebar import Sidebar\n",
    "    from src.Level import Level\n",
    "    from src.StartScreen import StartScreen\n",
    "    from src import LoadFromXMLManager as Loader\n",
    "\n",
    "    pg.init()\n",
    "\n",
    "    # Load fonts\n",
    "    fonts.init_fonts()\n",
    "\n",
    "    # Window parameters\n",
    "    pg.display.set_caption(\"In the name of the Five Cats\")\n",
    "    screen = pg.display.set_mode((MAIN_WIN_WIDTH, MAIN_WIN_HEIGHT))\n",
    "\n",
    "    # Load constant sprites\n",
    "    Destroyable.init_constant_sprites()\n",
    "    Breakable.init_constant_sprites()\n",
    "    Movable.init_constant_sprites()\n",
    "    Sidebar.init_constant_sprites()\n",
    "    Level.init_constant_sprites()\n",
    "\n",
    "    # Load some data\n",
    "    races = Loader.load_races()\n",
    "    classes = Loader.load_classes()\n",
    "    Character.init_data(races, classes)\n",
    "\n",
    "    clock = pg.time.Clock()\n",
    "\n",
    "    start_screen = StartScreen(screen)\n",
    "\n",
    "    quit_game = False\n",
    "    while not quit_game:\n",
    "        for e in pg.event.get():\n",
    "            if e.type == pg.QUIT:\n",
    "                quit_game = True\n",
    "            elif e.type == pg.MOUSEMOTION:\n",
    "                start_screen.motion(e.pos)\n",
    "            elif e.type == pg.MOUSEBUTTONUP:\n",
    "                if e.button == 1 or e.button == 3:\n",
    "                    quit_game = start_screen.click(e.button, e.pos)\n",
    "            elif e.type == pg.MOUSEBUTTONDOWN:\n",
    "                if e.button == 1 or e.button == 3:\n",
    "                    start_screen.button_down(e.button, e.pos)\n",
    "        start_screen.update_state()\n",
    "        start_screen.display()\n",
    "        show_fps(screen, clock, fonts.fonts['FPS_FONT'])\n",
    "        pg.display.update()\n",
    "        clock.tick(60)\n",
    "    raise SystemExit\n"
   ]
  },
  {
   "cell_type": "code",
   "execution_count": null,
   "metadata": {},
   "outputs": [],
   "source": []
  }
 ],
 "metadata": {
  "kernelspec": {
   "display_name": "Python 3",
   "language": "python",
   "name": "python3"
  },
  "language_info": {
   "codemirror_mode": {
    "name": "ipython",
    "version": 3
   },
   "file_extension": ".py",
   "mimetype": "text/x-python",
   "name": "python",
   "nbconvert_exporter": "python",
   "pygments_lexer": "ipython3",
   "version": "3.7.3"
  }
 },
 "nbformat": 4,
 "nbformat_minor": 2
}
