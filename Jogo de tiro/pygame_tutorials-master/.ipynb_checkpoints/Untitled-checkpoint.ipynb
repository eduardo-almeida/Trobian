{
 "cells": [
  {
   "cell_type": "code",
   "execution_count": 3,
   "metadata": {},
   "outputs": [],
   "source": [
    "# Pygame template - skeleton for a new pygame project\n",
    "import pygame\n",
    "import random\n",
    "\n",
    "WIDTH = 360\n",
    "HEIGHT = 480\n",
    "FPS = 30\n",
    "\n",
    "# define colors\n",
    "WHITE = (255, 255, 255)\n",
    "BLACK = (0, 0, 0)\n",
    "RED = (255, 0, 0)\n",
    "GREEN = (0, 255, 0)\n",
    "BLUE = (0, 0, 255)\n",
    "\n",
    "# initialize pygame and create window\n",
    "pygame.init()\n",
    "pygame.mixer.init()\n",
    "screen = pygame.display.set_mode((WIDTH, HEIGHT))\n",
    "pygame.display.set_caption(\"My Game\")\n",
    "clock = pygame.time.Clock()\n",
    "\n",
    "all_sprites = pygame.sprite.Group()\n",
    "# Game loop\n",
    "running = True\n",
    "while running:\n",
    "    # keep loop running at the right speed\n",
    "    clock.tick(FPS)\n",
    "    # Process input (events)\n",
    "    for event in pygame.event.get():\n",
    "        # check for closing window\n",
    "        if event.type == pygame.QUIT:\n",
    "            running = False\n",
    "\n",
    "    # Update\n",
    "    all_sprites.update()\n",
    "\n",
    "    # Draw / render\n",
    "    screen.fill(BLACK)\n",
    "    all_sprites.draw(screen)\n",
    "    # *after* drawing everything, flip the display\n",
    "    pygame.display.flip()\n",
    "\n",
    "pygame.quit()\n"
   ]
  },
  {
   "cell_type": "code",
   "execution_count": null,
   "metadata": {},
   "outputs": [],
   "source": []
  }
 ],
 "metadata": {
  "kernelspec": {
   "display_name": "Python 3",
   "language": "python",
   "name": "python3"
  },
  "language_info": {
   "codemirror_mode": {
    "name": "ipython",
    "version": 3
   },
   "file_extension": ".py",
   "mimetype": "text/x-python",
   "name": "python",
   "nbconvert_exporter": "python",
   "pygments_lexer": "ipython3",
   "version": "3.7.3"
  }
 },
 "nbformat": 4,
 "nbformat_minor": 2
}
