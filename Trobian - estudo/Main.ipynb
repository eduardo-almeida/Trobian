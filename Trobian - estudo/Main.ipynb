{
 "cells": [
  {
   "cell_type": "code",
   "execution_count": 1,
   "metadata": {},
   "outputs": [
    {
     "name": "stdout",
     "output_type": "stream",
     "text": [
      "pygame 1.9.6\n",
      "Hello from the pygame community. https://www.pygame.org/contribute.html\n"
     ]
    },
    {
     "ename": "SystemExit",
     "evalue": "",
     "output_type": "error",
     "traceback": [
      "An exception has occurred, use %tb to see the full traceback.\n",
      "\u001b[0;31mSystemExit\u001b[0m\n"
     ]
    },
    {
     "name": "stderr",
     "output_type": "stream",
     "text": [
      "/home/eduardo/anaconda3/lib/python3.7/site-packages/IPython/core/interactiveshell.py:3304: UserWarning: To exit: use 'exit', 'quit', or Ctrl-D.\n",
      "  warn(\"To exit: use 'exit', 'quit', or Ctrl-D.\", stacklevel=1)\n"
     ]
    }
   ],
   "source": [
    "#!/usr/bin/python3.4\n",
    "# Setup Python ----------------------------------------------- #\n",
    "import pygame, sys\n",
    " \n",
    "# Setup pygame/window ---------------------------------------- #\n",
    "mainClock = pygame.time.Clock()\n",
    "from pygame.locals import *\n",
    "pygame.init()\n",
    "pygame.display.set_caption('game base')\n",
    "screen = pygame.display.set_mode((500, 500),0,32)\n",
    " \n",
    "font = pygame.font.SysFont(None, 20)\n",
    " \n",
    "def draw_text(text, font, color, surface, x, y):\n",
    "    textobj = font.render(text, 1, color)\n",
    "    textrect = textobj.get_rect()\n",
    "    textrect.topleft = (x, y)\n",
    "    surface.blit(textobj, textrect)\n",
    " \n",
    "click = False\n",
    " \n",
    "def main_menu():\n",
    "    while True:\n",
    " \n",
    "        screen.fill((0,0,0))\n",
    "        draw_text('main menu', font, (255, 255, 255), screen, 20, 20)\n",
    " \n",
    "        mx, my = pygame.mouse.get_pos()\n",
    " \n",
    "        button_1 = pygame.Rect(50, 100, 200, 50)\n",
    "        button_2 = pygame.Rect(50, 200, 200, 50)\n",
    "        if button_1.collidepoint((mx, my)):\n",
    "            if click:\n",
    "                game()\n",
    "        if button_2.collidepoint((mx, my)):\n",
    "            if click:\n",
    "                options()\n",
    "        pygame.draw.rect(screen, (255, 0, 0), button_1)\n",
    "        pygame.draw.rect(screen, (255, 0, 0), button_2)\n",
    " \n",
    "        click = False\n",
    "        for event in pygame.event.get():\n",
    "            if event.type == QUIT:\n",
    "                pygame.quit()\n",
    "                sys.exit()\n",
    "            if event.type == KEYDOWN:\n",
    "                if event.key == K_ESCAPE:\n",
    "                    pygame.quit()\n",
    "                    sys.exit()\n",
    "            if event.type == MOUSEBUTTONDOWN:\n",
    "                if event.button == 1:\n",
    "                    click = True\n",
    " \n",
    "        pygame.display.update()\n",
    "        mainClock.tick(60)\n",
    " \n",
    "def game():\n",
    "    running = True\n",
    "    while running:\n",
    "        screen.fill((0,0,0))\n",
    "        \n",
    "        draw_text('game', font, (255, 255, 255), screen, 20, 20)\n",
    "        for event in pygame.event.get():\n",
    "            if event.type == QUIT:\n",
    "                pygame.quit()\n",
    "                sys.exit()\n",
    "            if event.type == KEYDOWN:\n",
    "                if event.key == K_ESCAPE:\n",
    "                    running = False\n",
    "        \n",
    "        pygame.display.update()\n",
    "        mainClock.tick(60)\n",
    " \n",
    "def options():\n",
    "    running = True\n",
    "    while running:\n",
    "        screen.fill((0,0,0))\n",
    " \n",
    "        draw_text('options', font, (255, 255, 255), screen, 20, 20)\n",
    "        for event in pygame.event.get():\n",
    "            if event.type == QUIT:\n",
    "                pygame.quit()\n",
    "                sys.exit()\n",
    "            if event.type == KEYDOWN:\n",
    "                if event.key == K_ESCAPE:\n",
    "                    running = False\n",
    "        \n",
    "        pygame.display.update()\n",
    "        mainClock.tick(60)\n",
    " \n",
    "main_menu()"
   ]
  },
  {
   "cell_type": "code",
   "execution_count": null,
   "metadata": {},
   "outputs": [],
   "source": []
  }
 ],
 "metadata": {
  "kernelspec": {
   "display_name": "Python 3",
   "language": "python",
   "name": "python3"
  },
  "language_info": {
   "codemirror_mode": {
    "name": "ipython",
    "version": 3
   },
   "file_extension": ".py",
   "mimetype": "text/x-python",
   "name": "python",
   "nbconvert_exporter": "python",
   "pygments_lexer": "ipython3",
   "version": "3.7.3"
  }
 },
 "nbformat": 4,
 "nbformat_minor": 2
}
